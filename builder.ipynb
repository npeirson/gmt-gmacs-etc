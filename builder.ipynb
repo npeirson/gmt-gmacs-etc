{
 "cells": [
  {
   "cell_type": "markdown",
   "metadata": {},
   "source": [
    "# GMACS ETC DATASET PACKAGER  \n",
    "**Follow this guide to update the GMACS ETC dataset**  \n",
    "*Last updated: 19 July, 2018*  "
   ]
  },
  {
   "cell_type": "markdown",
   "metadata": {},
   "source": [
    "## About this packager\n",
    "This is designed to take column-oriented data and pre-package it for quicker access in real-time interactivity. This reduces server workload, and improves overall latency.  \n",
    "Most variables are named according to the following convention:\n",
    "- the first word (or prefix) denotes either:\n",
    "    - the data group that the information is related to,\n",
    "        - e.g. `skyfiles_path` and `skyfiles_files`\n",
    "        - e.g. `star_types_path` and `star_types_files`\n",
    "    - or, the type of data contained in the variable *as they pertain to building purposes*\n",
    "        - e.g. `string_example` will be an example variable intended to be used as a string.\n",
    "        - e.g. `coalesced_galaxy_types` will be the entire group of columns for every 'galaxy type' file.\n",
    "- the last word (or suffix) *may* denote a color specification (if one exists)."
   ]
  },
  {
   "cell_type": "markdown",
   "metadata": {},
   "source": [
    "## Prepare your data\n",
    "Figure out where your data goes:\n",
    "- core/\n",
    "    - kinny/ (galaxy types)\n",
    "    - pickle/ (star types)\n",
    "    - filters/ (filters)\n",
    "    - skybackground/ (sky files)\n",
    "    - efficiencies/ (ccd and grating efficiencies)\n",
    "    - dichroic.txt (dichroic glass)\n",
    "    - atmo_extinction.dat (atmospheric extinction)\n",
    "\n",
    "Data should adhere to the standardizations listed below. If you need to do something different, that's fine, and please document it.\n",
    "- comma deliniation\n",
    "- no spaces\n",
    "- the first row should be column names, not data-points\n",
    "- first-row column-names should be in alphabetical order (a,b,c...)"
   ]
  },
  {
   "cell_type": "markdown",
   "metadata": {},
   "source": [
    "## Run this script thing"
   ]
  },
  {
   "cell_type": "markdown",
   "metadata": {},
   "source": [
    "### Import some tools\n",
    "TQDM handles progress bars to make try/except operations display cleanly during compilation. You'll see.\n",
    "Scipy now handles only interpolation. Linear interpolations are named by number of dimensions (e.g. `interpolate.interp1d()` or `interpolate.interp2d()`). Pchip is its own function:`interpolate.PchipInterpolator()`."
   ]
  },
  {
   "cell_type": "code",
   "execution_count": null,
   "metadata": {},
   "outputs": [],
   "source": [
    "import os\n",
    "from tqdm import tqdm\n",
    "from scipy import interpolate\n",
    "import pandas as pd\n",
    "import numpy as np"
   ]
  },
  {
   "cell_type": "markdown",
   "metadata": {},
   "source": [
    "## Set up the variable name things\n",
    "You could try to simplify this process by dynamically populating file lists, e.g. `for file in os.listdir(star_files_path):` or similar, but then you'll have to figure out a system for determining which file occupies which index of a coalescence. For this reason, I have made the lists of data files explicit."
   ]
  },
  {
   "cell_type": "code",
   "execution_count": null,
   "metadata": {},
   "outputs": [],
   "source": [
    "step_size = 0.1 \t\t\t\t# scales interpolation steps\n",
    "galaxy_types_path = 'core/kinney/'\n",
    "galaxy_types_files = ['SB1','SB2','SB3','SB4','SB5','SB6','S0','Sa',\n",
    "                      'Sb','Sc','bulge','ellipticals','lbg_all_flam']\n",
    "star_types_path = 'core/pickle/'\n",
    "star_types_files = ['o5v.dat','b0v.dat','b57v.dat',\n",
    "                    'a0v.dat','a5v.dat','f0v.dat',\n",
    "                    'g0v.dat','g5v.dat','k0v.dat',\n",
    "                    'k5v.dat','m0v.dat','m5v.dat']\n",
    "filter_path = 'core/filters/'\n",
    "filter_files = ['photonUX','photonB','photonV','photonR','photonI','u','g','r','i','z']\n",
    "skyfiles_path = 'core/skybackground/'\n",
    "skyfiles_files = ['00d','03d','07d','10d','14d']\n",
    "efficiency_path = 'core/efficiencies/'\n",
    "efficiency_grating_files = ['grating_red_low_res','grating_blue_low_res']\n",
    "efficiency_ccd_files = ['e2v_red','e2v_blue']\n",
    "dichroic_file = 'core/dichroic.txt'\n",
    "atmospheric_extinction = 'core/atmo_extinction.dat'\n",
    "lol_units = [' units',' units'] # for TQDM... just ignore this\n",
    "error_flag = 0 # for counting errors... hopefully never."
   ]
  },
  {
   "cell_type": "markdown",
   "metadata": {},
   "source": [
    "## Import your data\n",
    "This loads each file in the order listed in their files variable (e.g. `star_types_files`). In this way, `coalesced_star_types` contains all the data from all the `star_types_files` files.to access one of these files, simply use the index corrosponding to the index of its name in the `star_types_files list.` For example, star type file `05v.dat` is accessible as the variable `coalesced_star_types[0].`  \n",
    "Pandas, which is a tool used to import the data, assigns a second index to each column, whose index name is the first cell in that column. For this reason, and in accordance with the data\tpreparation guidelines, the first cells of every column should be systematically named. At the time of this writing, each column was in alphabetical order (e.g. 'a', 'b', 'c', etc). In this way, accessing a specific column within a `star_types_files` file is done like so:  \n",
    "- `coalesced_star_types[3]['a']`, or\n",
    "- `coalesced_star_types[3].a`,  \n",
    "which would access the first column of the fourth file in star_types_files (0th indexing, so index 3 is the 4th cell).  \n",
    "If a data type has only one file (such as 'atmospheric extinction'), the first index is negated, and the only index is that of each column. For example:  \n",
    "- `coalesced_atmospheric_extinction['a']`, or  \n",
    "- `coalesced_atmospheric_extinction.a`  \n",
    "\n",
    "The first group (galaxy types) features a comment-walkthrough. Check it out."
   ]
  },
  {
   "cell_type": "code",
   "execution_count": null,
   "metadata": {},
   "outputs": [],
   "source": [
    "# galaxy types\n",
    "coalesced_galaxy_types = {} # this will be a list of lists of columns\n",
    "try:\n",
    "\tfor i,galaxy_types_file in tqdm(enumerate(galaxy_types_files),\n",
    "\t\tdesc='Loading object data',ncols=0,unit=tickle(lol_units)):\n",
    "        # `i,galaxy_types_file` means that, for each thing in the list of galaxy_types_files,\n",
    "        # `i` will be the index of the value, and 'galaxy_types_file' will be the string name\n",
    "        # as it appears in the `galaxy_types_files` list\n",
    "        \n",
    "        # this sets up the path to the files. change the suffix ('.txt', '.dat', etc) as needed.\n",
    "\t\t_path = os.path.join(galaxy_types_path,\"{0}{1}\".format(galaxy_types_file,'.txt'))\n",
    "        \n",
    "\t\t# Pandas import the data. Literal pandas. Delimiter is here too; change as needed.\n",
    "        _value = pd.read_csv(_path,delimiter=',')\n",
    "        \n",
    "        # this is where the file `galaxy_types_file` becomes an index of coalesced_galaxy_types.\n",
    "        coalesced_galaxy_types[i] = _value\n",
    "except:\n",
    "\tprint('[Error :: object data]')\n",
    "\terror_flag += 1\n",
    "\n",
    "# star types\n",
    "coalesced_star_types = {}\n",
    "try:\n",
    "\tfor i,star_types_file in tqdm(enumerate(star_types_files),\n",
    "\t\tdesc='Loading star data',ncols=0,unit=tickle(lol_units)):\n",
    "\t\t_path = os.path.join(star_types_path,star_types_file) \n",
    "\t\t_value = pd.read_csv(_path,delimiter=',')\n",
    "\t\tcoalesced_star_types[i] = _value\n",
    "except:\n",
    "\tprint('[Error :: star data]')\n",
    "\terror_flag += 1\n",
    "\n",
    "# filters\n",
    "coalesced_filters = {}\n",
    "try:\n",
    "\tfor i,filter_file in tqdm(enumerate(filter_files),\n",
    "\t\tdesc='Loading filter data',ncols=0,unit=tickle(lol_units)):\n",
    "\t\t_path = os.path.join(filter_path,\"{0}{1}\".format(filter_file,'.txt'))\n",
    "\t\t_value = pd.read_csv(_path,delimiter=',')\n",
    "\t\tcoalesced_filters[i] = _value\n",
    "except:\n",
    "\tprint('[Error :: filter data]')\n",
    "\terror_flag += 1\n",
    "\n",
    "# sky files\n",
    "coalesced_sky_files = {}\n",
    "try:\n",
    "\tfor i,skyfiles_file in tqdm(enumerate(skyfiles_files),\n",
    "\t\tdesc='Loading atmospheric data',ncols=0,unit=tickle(lol_units)):\n",
    "\t\t_path = os.path.join(skyfiles_path,\"{0}{1}\".format(skyfiles_file,'.txt'))\n",
    "\t\t_value = pd.read_csv(_path,delimiter=',')\n",
    "\t\tcoalesced_sky_files[i] = _value\n",
    "except:\n",
    "\tprint('[Error :: atmospheric data]')\n",
    "\terror_flag += 1\n",
    "\n",
    "# grating efficiency files\n",
    "coalesced_grating_files = {}\n",
    "try:\n",
    "\tfor i,efficiency_grating_file in tqdm(enumerate(efficiency_grating_files),\n",
    "\t\tdesc='Loading grating efficiencies',ncols=0,unit=tickle(lol_units)):\n",
    "\t\t_path = os.path.join(efficiency_path,\"{0}{1}\".format(efficiency_grating_file,'.txt'))\n",
    "\t\t_value = pd.read_csv(_path,delimiter=',')\n",
    "\t\tcoalesced_grating_files[i] = _value\n",
    "\tgrating_red_1 = np.dot(coalesced_grating_files[0]['a'],10) # had to be multiplied by 10 somewhere, so might as well be here.\n",
    "\tgrating_red_2 = coalesced_grating_files[0]['b']\n",
    "\tgrating_blue_1 = np.dot(coalesced_grating_files[1]['a'],10)\n",
    "\tgrating_blue_2 = coalesced_grating_files[1]['b']\n",
    "except:\n",
    "\tprint('[Error :: grating efficiencies]')\n",
    "\terror_flag += 1\n",
    "\n",
    "# CCD efficiency files\n",
    "coalesced_ccd_files = {}\n",
    "try:\n",
    "\tfor i,efficiency_ccd_file in tqdm(enumerate(efficiency_ccd_files),\n",
    "\t\tdesc='Loading CCD efficiencies',ncols=0,unit=tickle(lol_units)):\n",
    "\t\t_path = os.path.join(efficiency_path,\"{0}{1}\".format(efficiency_ccd_file,'.txt'))\n",
    "\t\t_value = pd.read_csv(_path,delimiter=',')\n",
    "\t\tcoalesced_ccd_files[i] = _value\n",
    "\t# parse parse parse\n",
    "\tccd_efficiency_red_1 = np.dot(coalesced_ccd_files[0]['a'],10)\n",
    "\tccd_efficiency_red_2 = coalesced_ccd_files[0]['b']\n",
    "\tccd_efficiency_blue_1 = np.dot(coalesced_ccd_files[1]['a'],10)\n",
    "\tccd_efficiency_blue_2 = coalesced_ccd_files[1]['d'] # data came in like this\n",
    "except:\n",
    "\tprint('[Error :: ccd efficiencies]')\n",
    "\terror_flag += 1\n",
    "\n",
    "# dichroic efficiency and atmospheric extinction\n",
    "try:\n",
    "\t# dichro\n",
    "\tcoalesced_dichroic = pd.read_csv(dichroic_file,delimiter=',')\n",
    "\tdichro_x = np.dot(coalesced_dichroic['a'],10) # wavelength in A\n",
    "\tdichro_y1 = coalesced_dichroic['b'] # reflectivity, blue channel\n",
    "\tdichro_y2 = coalesced_dichroic['c'] # transmission, red channel\n",
    "\t# atmo ext\n",
    "\tcoalesced_atmospheric_extinction = pd.read_csv(atmospheric_extinction,delimiter=',')\n",
    "\tatmo_ext_x = coalesced_atmospheric_extinction['a']\n",
    "\tatmo_ext_y = coalesced_atmospheric_extinction['b']\n",
    "except:\n",
    "\tprint('[Error :: dichroic / atmo. extinction]')\n",
    "\terror_flag += 1"
   ]
  }
 ],
 "metadata": {
  "kernelspec": {
   "display_name": "Python 3",
   "language": "python",
   "name": "python3"
  },
  "language_info": {
   "codemirror_mode": {
    "name": "ipython",
    "version": 3
   },
   "file_extension": ".py",
   "mimetype": "text/x-python",
   "name": "python",
   "nbconvert_exporter": "python",
   "pygments_lexer": "ipython3",
   "version": "3.6.4"
  }
 },
 "nbformat": 4,
 "nbformat_minor": 2
}
