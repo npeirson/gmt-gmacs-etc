{
 "cells": [
  {
   "cell_type": "markdown",
   "metadata": {},
   "source": [
    "# GMACS-ETC Quick-Start\n",
    "\n",
    "- `import etc`  \n",
    "- specify your parameters\n",
    "- change things as you please\n",
    "- recalculate when you're ready"
   ]
  },
  {
   "cell_type": "code",
   "execution_count": null,
   "metadata": {},
   "outputs": [],
   "source": [
    "import etc\n",
    "\n",
    "my_wavs = range(4800,8800,20)\n",
    "\n",
    "my_calcs = etc.calculate(mode='snr',\n",
    "                         telescope_mode='full',\n",
    "                         filter_opt='r',\n",
    "                         slit_width=0.7, # arcsec\n",
    "                         grating_opt='low_resolution',\n",
    "                         bin_opt=2, # pixel binning\n",
    "                         wavelength=my_wavs,\n",
    "                         exposure_time=3600, # seconds\n",
    "                         object_type='a5v',\n",
    "                         mag_sys='ab',\n",
    "                         mag=25,\n",
    "                         redshift=0,\n",
    "                         seeing=0.5, # arcsec\n",
    "                         moon_days=0,\n",
    "                         channel='both',\n",
    "                         silent=False)\n",
    "\n",
    "# change attributes as you wish\n",
    "my_calcs.bin_opt = 3\n",
    "my_calcs.filter_opt = 'g'\n",
    "my_calcs.recalculate()"
   ]
  }
 ],
 "metadata": {
  "kernelspec": {
   "display_name": "Python 3",
   "language": "python",
   "name": "python3"
  },
  "language_info": {
   "codemirror_mode": {
    "name": "ipython",
    "version": 3
   },
   "file_extension": ".py",
   "mimetype": "text/x-python",
   "name": "python",
   "nbconvert_exporter": "python",
   "pygments_lexer": "ipython3",
   "version": "3.6.4"
  }
 },
 "nbformat": 4,
 "nbformat_minor": 2
}
